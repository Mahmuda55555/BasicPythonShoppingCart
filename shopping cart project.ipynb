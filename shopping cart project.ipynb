{
 "cells": [
  {
   "cell_type": "code",
   "execution_count": 4,
   "id": "b65ce12a-cc79-4cab-aabe-883a5a148556",
   "metadata": {},
   "outputs": [
    {
     "name": "stdout",
     "output_type": "stream",
     "text": [
      "Welcome to Our Shop\n"
     ]
    },
    {
     "name": "stdin",
     "output_type": "stream",
     "text": [
      "What is your name?  mahmuda\n"
     ]
    },
    {
     "name": "stdout",
     "output_type": "stream",
     "text": [
      "\n",
      "Welcome, mahmuda! Here's the menu:\n",
      "1. Shampoo-1000bdt\n",
      "2. Moisturiser-700bdt\n",
      "3. Eyeliner-850bdt\n",
      "4. Mashkara-530bdt\n",
      "5. Contour Palette-300bdt\n",
      "6. Spray-1200bdt\n",
      "7. Foundation-2050bdt\n",
      "8. primer-1830bdt\n",
      "9. lipstick-800bdt\n",
      "10. Highlighter-560bdt\n",
      "11. Blush-450bdt\n"
     ]
    },
    {
     "name": "stdin",
     "output_type": "stream",
     "text": [
      "\n",
      "Enter the number of the item to add to your cart (or type 'done' to finish):  4\n",
      "How many Mashkaras would you like to add?  2\n",
      "\n",
      "Enter the number of the item to add to your cart (or type 'done' to finish):  done\n"
     ]
    },
    {
     "name": "stdout",
     "output_type": "stream",
     "text": [
      "Your Cart\n",
      "2 X Mashkara-530bdt - 1060\n",
      "Enjoy Shopping!\n"
     ]
    }
   ],
   "source": [
    "class MenuItem:\n",
    "    def __init__(self, name, price):\n",
    "        self.name = name\n",
    "        self.price = price\n",
    "\n",
    "    def __str__(self):\n",
    "        return f\"{self.name}-{self.price}bdt\"\n",
    "\n",
    "class OrderItem:\n",
    "    def __init__(self, menu_item, quantity):\n",
    "        self.menu_item = menu_item\n",
    "        self.quantity = quantity\n",
    "\n",
    "    def total_price(self):\n",
    "        return self.menu_item.price * self.quantity\n",
    "\n",
    "    def __str__(self):\n",
    "        return f\"{self.quantity} X {self.menu_item} - {self.total_price()}\"\n",
    "\n",
    "class Order:\n",
    "    def __init__(self):\n",
    "        self.order_items = []\n",
    "\n",
    "    def add_item(self, menu_item, quantity):\n",
    "        order_item = OrderItem(menu_item, int(quantity))\n",
    "        self.order_items.append(order_item)\n",
    "\n",
    "    def display_order(self):\n",
    "        print(\"Your Cart\")\n",
    "        for item in self.order_items:\n",
    "            print(item)\n",
    "    def __str__(self):\n",
    "        self.order_items \n",
    "\n",
    "class Customer:\n",
    "    def __init__(self, name):\n",
    "        self.name = name\n",
    "        self.order = Order()\n",
    "\n",
    "    def place_order(self, menus):\n",
    "        print(f\"\\nWelcome, {self.name}! Here's the menu:\")\n",
    "        for i, item in enumerate(menus):\n",
    "            print(f\"{i + 1}. {item}\")\n",
    "        while True:\n",
    "            choice = input(\"\\nEnter the number of the item to add to your cart (or type 'done' to finish): \").strip()\n",
    "            if choice.lower() == \"done\":\n",
    "                break\n",
    "            if choice.isdigit() and 1 <= int(choice) <= len(menus):\n",
    "                selected_item = menus[int(choice) - 1]\n",
    "                quantity = input(f\"How many {selected_item.name}s would you like to add? \").strip()\n",
    "                if quantity.isdigit() and int(quantity) > 0:\n",
    "                    self.order.add_item(selected_item, quantity)\n",
    "                else:\n",
    "                    print(\"Invalid quantity. Please try again.\")\n",
    "            else:\n",
    "                print(\"Invalid choice. Please try again.\")\n",
    "\n",
    "    def checkout(self):\n",
    "        self.order.display_order()\n",
    "        print(\"Enjoy Shopping!\")\n",
    "\n",
    "if __name__ == \"__main__\":\n",
    "    menu_items = [\n",
    "        MenuItem(\"Shampoo\", 1000),\n",
    "        MenuItem(\"Moisturiser\", 700),\n",
    "        MenuItem(\"Eyeliner\", 850),\n",
    "        MenuItem(\"Mashkara\", 530),\n",
    "        MenuItem(\"Contour Palette\",300),\n",
    "        MenuItem(\"Spray\",1200),\n",
    "        MenuItem(\"Foundation\",2050),\n",
    "        MenuItem(\"primer\",1830),\n",
    "        MenuItem(\"lipstick\",800),\n",
    "        MenuItem(\"Highlighter\",560),\n",
    "        MenuItem(\"Blush\",450)\n",
    "        \n",
    "\n",
    "    ]\n",
    "\n",
    "    print(\"Welcome to Our Shop\")\n",
    "    customer_name = input(\"What is your name? \").strip()\n",
    "    customer = Customer(customer_name)\n",
    "    customer.place_order(menu_items)\n",
    "    customer.checkout()"
   ]
  },
  {
   "cell_type": "code",
   "execution_count": null,
   "id": "63b70925-5389-40aa-9299-74ef148d1552",
   "metadata": {},
   "outputs": [],
   "source": []
  }
 ],
 "metadata": {
  "kernelspec": {
   "display_name": "Python 3 (ipykernel)",
   "language": "python",
   "name": "python3"
  },
  "language_info": {
   "codemirror_mode": {
    "name": "ipython",
    "version": 3
   },
   "file_extension": ".py",
   "mimetype": "text/x-python",
   "name": "python",
   "nbconvert_exporter": "python",
   "pygments_lexer": "ipython3",
   "version": "3.11.7"
  }
 },
 "nbformat": 4,
 "nbformat_minor": 5
}
